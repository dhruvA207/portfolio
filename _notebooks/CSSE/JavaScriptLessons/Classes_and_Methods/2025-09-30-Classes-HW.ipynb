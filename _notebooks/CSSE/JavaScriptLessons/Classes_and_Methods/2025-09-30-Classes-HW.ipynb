{
 "cells": [
  {
   "cell_type": "markdown",
   "id": "cddd6643",
   "metadata": {},
   "source": [
    "---\n",
    "layout: base\n",
    "title: Classes and Constructos Homework\n",
    "description:  Classes hw\n",
    "permalink: /classes-hw\n",
    "---"
   ]
  },
  {
   "cell_type": "markdown",
   "id": "60faef8a",
   "metadata": {},
   "source": [
    "# Popcorn Hack 1 — Book class\n",
    "\n",
    "Context: A `Book` is a small object that stores identifying information. This hack helps you practice defining a class, adding an initializer (`__init__`), and a simple method that returns a description string.\n",
    "\n",
    "What to do: Read the code cell below, run it, then try the following:\n",
    "1. Create another `Book` instance with a different title and author and print its description.\n",
    "2. Add a `year` attribute to the class, update `__init__`, and include the year in the `description()` output."
   ]
  },
  {
   "cell_type": "code",
   "execution_count": 1,
   "id": "f58674a5",
   "metadata": {},
   "outputs": [
    {
     "name": "stdout",
     "output_type": "stream",
     "text": [
      "'1984' by George Orwell\n"
     ]
    }
   ],
   "source": [
    "# Popcorn Hack 1: Create a simple class for a Book\n",
    "class Book:\n",
    "    def __init__(self, title, author):\n",
    "        self.title = title\n",
    "        self.author = author\n",
    "\n",
    "    def description(self):\n",
    "        return f\"'{self.title}' by {self.author}\"\n",
    "\n",
    "# Practice: Create a Book object and print its description\n",
    "my_book = Book(\"1984\", \"George Orwell\")\n",
    "print(my_book.description())"
   ]
  },
  {
   "cell_type": "markdown",
   "id": "a7a7e247",
   "metadata": {},
   "source": [
    "---\n",
    "\n",
    "# Popcorn Hack 2 — Rectangle class\n",
    "\n",
    "Context: Practice creating a class that represents a simple geometric shape. This hack focuses on initializing numeric attributes and writing a method that computes and returns a derived value (area).\n",
    "\n",
    "What to do: Run the code cell below, then try:\n",
    "1. Add a `perimeter()` method that returns the perimeter.\n",
    "2. Add validation in `__init__` to ensure width and height are positive numbers (raise ValueError otherwise)."
   ]
  },
  {
   "cell_type": "code",
   "execution_count": null,
   "id": "2f36ebc4",
   "metadata": {},
   "outputs": [],
   "source": [
    "# Popcorn Hack 2: Create a class for a Rectangle with area calculation\n",
    "class Rectangle:\n",
    "    def __init__(self, width, height):\n",
    "        self.width = width\n",
    "        self.height = height\n",
    "\n",
    "    def area(self):\n",
    "        return self.width * self.height\n",
    "\n",
    "# Practice: Create a Rectangle object and print its area\n",
    "my_rectangle = Rectangle(5, 3)\n",
    "print(\"Area:\", my_rectangle.area())"
   ]
  },
  {
   "cell_type": "markdown",
   "id": "55f124c2",
   "metadata": {},
   "source": [
    "# Homework: Tic-Tac-Toe (3 parts)\n",
    "\n",
    "This homework uses small, function-style pieces of the Tic-Tac-Toe code (board as a list of 9 strings).\n",
    "Scoring: each part is worth up to **0.3 points**, plus up to **0.03 points** exceptional credit for elegant/pythonic solutions (e.g., use of `all()`/`any()` or clear docstrings).\n",
    "\n",
    "Instructions: For each part below, replace the `TODO` implementation with working code and run the cell's tests. When you're ready, run the final grader cell which will print your score breakdown."
   ]
  },
  {
   "cell_type": "markdown",
   "id": "41ae2147",
   "metadata": {},
   "source": [
    "## Part A — Win detection (0.3 pts)\n",
    "\n",
    "Implement `check_winner(board, symbol)` which returns True when `symbol` (e.g. 'X') appears in any winning 3-in-a-row pattern on `board`. `board` is a list of 9 strings where an empty square is `' '`.\n",
    "\n",
    "Exceptional credit (0.01 pts): your implementation uses `all()` or `any()` and includes a short docstring explaining the approach."
   ]
  },
  {
   "cell_type": "code",
   "execution_count": null,
   "id": "181c5458",
   "metadata": {},
   "outputs": [],
   "source": [
    "# Part A: implement check_winner(board, symbol)\n",
    "win_patterns = [\n",
    "    [0,1,2], [3,4,5], [6,7,8],\n",
    "    [0,3,6], [1,4,7], [2,5,8],\n",
    "    [0,4,8], [2,4,6]\n",
    "]\n",
    "\n",
    "def check_winner(board, symbol):\n",
    "    # TODO: replace this stub with your implementation\n",
    "    raise NotImplementedError('Implement check_winner')\n",
    "\n",
    "# Tests for Part A\n",
    "_tests_A = [\n",
    "    (['X','X','X',' ',' ',' ',' ',' ',' '], 'X', True),\n",
    "    (['O',' ',' ','O',' ',' ','O',' ',' '], 'O', True),\n",
    "    (['X','O','X','O','X','O','O','X','O'], 'X', False),\n",
    "]\n",
    "\n",
    "def grade_part_A():\n",
    "    passed = 0\n",
    "    for b, s, expected in _tests_A:\n",
    "        try:\n",
    "            result = check_winner(b, s)\n",
    "        except Exception as e:\n",
    "            print('Part A: error during execution:', e)\n",
    "            return 0.0, 0.0  # no points if it crashes\n",
    "        if result == expected:\n",
    "            passed += 1\n",
    "    score = 0.3 * (passed / len(_tests_A))\n",
    "    # small heuristic for exceptional credit: check source for 'all(' or 'any(' and presence of docstring\n",
    "    import inspect, types\n",
    "    extra = 0.0\n",
    "    try:\n",
    "        src = inspect.getsource(check_winner)\n",
    "        if ('all(' in src or 'any(' in src) and '\n",
    "' in src:\n",
    "            extra = 0.03\n",
    "    except Exception:\n",
    "        pass\n",
    "    return score, extra\n",
    "\n",
    "# Run quick self-check (you'll see failures until you implement the function)\n",
    "print('Part A quick check: call grade_part_A() after implementing check_winner')"
   ]
  },
  {
   "cell_type": "markdown",
   "id": "16cd1906",
   "metadata": {},
   "source": [
    "## Part B — Find winning/blocking move (0.3 pts)\n",
    "\n",
    "Implement `find_best_move(board, player)` which returns the index (0-8) of an empty square that completes `player` to three-in-a-row, or `-1` if none exists. This is the helper used by simple Tic-Tac-Toe AIs.\n",
    "\n",
    "Exceptional credit (0.01 pts): your implementation is concise (uses comprehensions) and includes a short docstring."
   ]
  },
  {
   "cell_type": "code",
   "execution_count": null,
   "id": "b25fdbac",
   "metadata": {},
   "outputs": [],
   "source": [
    "# Part B: implement find_best_move(board, player)\n",
    "def find_best_move(board, player):\n",
    "    # TODO: replace this stub with your implementation\n",
    "    raise NotImplementedError('Implement find_best_move')\n",
    "\n",
    "# Tests for Part B\n",
    "_tests_B = [\n",
    "    (['X','X',' ',' ',' ',' ',' ',' ',' '], 'X', 2),\n",
    "    (['O',' ',' ','O',' ',' ','O',' ',' '], 'O', 6),\n",
    "    (['X','O','X','O','X','O','O','X','O'], 'X', -1),\n",
    "]\n",
    "\n",
    "def grade_part_B():\n",
    "    passed = 0\n",
    "    for b, p, expected in _tests_B:\n",
    "        try:\n",
    "            result = find_best_move(b, p)\n",
    "        except Exception as e:\n",
    "            print('Part B: error during execution:', e)\n",
    "            return 0.0, 0.0\n",
    "        if result == expected:\n",
    "            passed += 1\n",
    "    score = 0.3 * (passed / len(_tests_B))\n",
    "    import inspect\n",
    "    extra = 0.0\n",
    "    try:\n",
    "        src = inspect.getsource(find_best_move)\n",
    "        if ('for' in src and '[' in src and ']' in src) and '\n",
    "' in src:\n",
    "            extra = 0.03\n",
    "    except Exception:\n",
    "        pass\n",
    "    return score, extra\n",
    "\n",
    "print('Part B quick check: call grade_part_B() after implementing find_best_move')"
   ]
  },
  {
   "cell_type": "markdown",
   "id": "6cddfbd8",
   "metadata": {},
   "source": [
    "## Part C — Safe move placement (0.3 pts)\n",
    "\n",
    "Implement `make_move(board, position, player)` which attempts to place `player` at `position` (0-8). It should return True and update the board when the move is valid; return False (and leave board unchanged) when the position is invalid or occupied.\n",
    "\n",
    "Exceptional credit (0.01 pts): your implementation includes input validation and a docstring describing edge cases."
   ]
  },
  {
   "cell_type": "code",
   "execution_count": null,
   "id": "71d3c719",
   "metadata": {},
   "outputs": [],
   "source": [
    "# Part C: implement make_move(board, position, player)\n",
    "def make_move(board, position, player):\n",
    "    # TODO: replace this stub with your implementation\n",
    "    raise NotImplementedError('Implement make_move')\n",
    "\n",
    "# Tests for Part C\n",
    "_tests_C = [\n",
    "    ([' ',' ',' ',' ',' ',' ',' ',' ',' '], 4, 'X', True),\n",
    "    (['X',' ',' ',' ',' ',' ',' ',' ',' '], 0, 'O', False),\n",
    "    (['X','O','X','O','X','O','O','X','O'], 2, 'X', False),\n",
    "]\n",
    "\n",
    "def grade_part_C():\n",
    "    passed = 0\n",
    "    for b_init, pos, player, expected in _tests_C:\n",
    "        b = b_init.copy()\n",
    "        try:\n",
    "            result = make_move(b, pos, player)\n",
    "        except Exception as e:\n",
    "            print('Part C: error during execution:', e)\n",
    "            return 0.0, 0.0\n",
    "        # check boolean result and that board updated only when expected\n",
    "        if result == expected:\n",
    "            if expected:\n",
    "                if b[pos] == player:\n",
    "                    passed += 1\n",
    "            else:\n",
    "                # board should be unchanged for failed move\n",
    "                if b == b_init:\n",
    "                    passed += 1\n",
    "    score = 0.3 * (passed / len(_tests_C))\n",
    "    import inspect\n",
    "    extra = 0.0\n",
    "    try:\n",
    "        src = inspect.getsource(make_move)\n",
    "        if 'raise' not in src and '\n",
    "' in src:\n",
    "            extra = 0.03\n",
    "    except Exception:\n",
    "        pass\n",
    "    return score, extra\n",
    "\n",
    "print('Part C quick check: call grade_part_C() after implementing make_move')"
   ]
  }
 ],
 "metadata": {
  "kernelspec": {
   "display_name": "venv",
   "language": "python",
   "name": "python3"
  },
  "language_info": {
   "codemirror_mode": {
    "name": "ipython",
    "version": 3
   },
   "file_extension": ".py",
   "mimetype": "text/x-python",
   "name": "python",
   "nbconvert_exporter": "python",
   "pygments_lexer": "ipython3",
   "version": "3.12.3"
  }
 },
 "nbformat": 4,
 "nbformat_minor": 5
}
