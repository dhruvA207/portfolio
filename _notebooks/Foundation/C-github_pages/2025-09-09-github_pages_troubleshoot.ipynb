{
 "cells": [
  {
   "cell_type": "code",
   "execution_count": null,
   "id": "e93ac362",
   "metadata": {
    "vscode": {
     "languageId": "plaintext"
    }
   },
   "outputs": [],
   "source": [
    "---\n",
    "layout: post\n",
    "toc: True\n",
    "breadcrumb: True\n",
    "title: GitHub Pages Troubleshooting \n",
    "description: This page debugs common issues and demonstrates common things we do in CSSE>\n",
    "permalink: /github/pages/troubleshooting\n",
    "author: Ishan Jha\n",
    "---"
   ]
  },
  {
   "cell_type": "markdown",
   "id": "c9bee039",
   "metadata": {},
   "source": [
    "# Troubleshooting Guide: Common Tasks\n",
    "\n",
    "This guide covers common setup and customization tasks for your project."
   ]
  },
  {
   "cell_type": "markdown",
   "id": "7c34503e",
   "metadata": {},
   "source": [
    "## Cloning a Repository\n",
    "To clone a repository, use the following command (replace `<url>` with the actual repository URL):\n",
    "\n",
    "```bash\n",
    "git clone <url>\n",
    "```"
   ]
  },
  {
   "cell_type": "markdown",
   "id": "f6f37e82",
   "metadata": {},
   "source": [
    "## Setting Up the Virtual Environment\n",
    "Run the provided script to set up your Python virtual environment:\n",
    "\n",
    "```bash\n",
    "./scripts/venv.sh\n",
    "```\n",
    "\n",
    "Once the virtual environment is created, activate it with:\n",
    "\n",
    "```bash\n",
    "source venv/bin/activate\n",
    "```\n",
    "\n",
    "Ensure Ruby is installed in your virtual environment:\n",
    "```bash\n",
    "bundle install\n",
    "```\n",
    "\n",
    "Open the project in VsCode:\n",
    "```bash\n",
    "code .\n",
    "```\n"
   ]
  },
  {
   "cell_type": "markdown",
   "id": "73d1b400",
   "metadata": {},
   "source": [
    "## Changing the Site Theme\n",
    "To change the theme and serve the site with a new theme, run:\n",
    "\n",
    "```bash\n",
    "make serve-<newtheme>\n",
    "```\n",
    "\n",
    "Replace `<newtheme>` with the name of the theme you want to use."
   ]
  },
  {
   "cell_type": "code",
   "execution_count": null,
   "id": "0200de44",
   "metadata": {
    "vscode": {
     "languageId": "plaintext"
    }
   },
   "outputs": [],
   "source": [
    "# Jokes\n",
    "\n",
    "Run make:\n",
    "```bash\n",
    "make\n",
    "```\n",
    "Navigate to 127.0.0.1:4600/student/github/pages/Jokes or jupiterian.github.io/student/github/pages/Jokes.\n",
    "A different joke will automatically generate every time.\n"
   ]
  }
 ],
 "metadata": {
  "language_info": {
   "name": "python"
  }
 },
 "nbformat": 4,
 "nbformat_minor": 5
}
