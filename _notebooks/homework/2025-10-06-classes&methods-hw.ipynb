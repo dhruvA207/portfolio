{
 "cells": [
  {
   "cell_type": "raw",
   "id": "3ddc81e9",
   "metadata": {
    "vscode": {
     "languageId": "raw"
    }
   },
   "source": [
    "---\n",
    "layout: post\n",
    "title: CSSE Classes and Methods HW\n",
    "description: These are the homework problems and popcorn hacks.\n",
    "categories: [CSSE, javascript, homework]\n",
    "permalink: /csse/javascript/homework/classes-and-methods\n",
    "---"
   ]
  },
  {
   "cell_type": "markdown",
   "id": "04a627a9",
   "metadata": {},
   "source": [
    "## **Classes and Methods**"
   ]
  },
  {
   "cell_type": "markdown",
   "id": "a88704ec",
   "metadata": {},
   "source": [
    "### <u>Popcorn Hack 1 - Dice Roller</u>\n",
    "\n",
    "\n",
    "Instructions:\n",
    "Finish the code in the cell below (fill in underlines and add lines of code) so it works as described:\n",
    "\n",
    "- Create a class called Dice that:\n",
    "    - Has a property for the number of sides.\n",
    "    - Has a method roll() that returns a random number between 1 and the number of sides.\n",
    "\n",
    "\n",
    "At the bottom, test your game by making a DiceGame object and calling roll() a few times.\n",
    "\n",
    "The code is currently NOT functional. When you have completed this popcorn hack, the code should work. Have fun!"
   ]
  },
  {
   "cell_type": "code",
   "execution_count": null,
   "id": "83cfb441",
   "metadata": {
    "vscode": {
     "languageId": "javascript"
    }
   },
   "outputs": [
    {
     "data": {
      "application/javascript": "\nclass _____ { // What should the name of the class be?\n  constructor(sides) { // Constructor to initialize the number of sides\n    this.sides = sides; // Number of sides on the dice\n  }\n\n  // ____() { // What should the name of the method be?\n    return Math.floor(Math.random() * _________) + 1; // Rolls the dice and returns a number between 1 and the number of sides\n  }\n}\n\n// Test the Dice class:\n// INSTANTIATE A NEW DICE OBJECT WITH A NUMBER OF SIDES\n\n// CALL THE ROLL METHOD A FEW TIMES AND PRINT THE RESULTS\n",
      "text/plain": [
       "<IPython.core.display.Javascript object>"
      ]
     },
     "metadata": {},
     "output_type": "display_data"
    }
   ],
   "source": [
    "\n",
    "\n",
    "class Dice { // What should the name of the class be?\n",
    "  constructor(sides) { // Constructor to initialize the number of sides\n",
    "    this.sides = sides; // Number of sides on the dice\n",
    "  }\n",
    "\n",
    "  roll() { // Method to roll the dice\n",
    "    return Math.floor(Math.random() * this.sides) + 1; // Rolls the dice and returns a number between 1 and the number of sides\n",
    "  }\n",
    "}\n",
    "\n",
    "// Test the Dice class:\n",
    "// INSTANTIATE A NEW DICE OBJECT WITH A NUMBER OF SIDES\n",
    "const myDice = new Dice(6);\n",
    "\n",
    "// CALL THE ROLL METHOD A FEW TIMES AND PRINT THE RESULTS\n",
    "console.log(myDice.roll());\n",
    "console.log(myDice.roll());\n",
    "console.log(myDice.roll());"
   ]
  },
  {
   "cell_type": "markdown",
   "id": "eb525919",
   "metadata": {},
   "source": [
    "### <u>Popcorn Hack 2 - Pet Simulator</u>\n",
    "\n",
    "\n",
    "This hack is a bit more complicated than the first. Points will be awarded based on effort and completion.\n",
    "\n",
    "\n",
    "Analyze the block of code below. Then, complete the following instructions:\n",
    "\n",
    "\n",
    "1) Create a simple Pet class by filling in the _________.\n",
    "\n",
    "2) Add at least 2 properties (like hunger, energy, or happiness). EX: Stats decrease over time.\n",
    "\n",
    "3) Add at least two functioning methods (such as feed, play, or sleep) EX: Buttons increase stats.\n",
    "\n",
    "4) Give your pet a name and print their current properties.\n",
    "\n",
    "5) Bonus: Add a \"status\" method to print all your pet's stats.\n",
    "\n",
    "\n",
    "The code is currently NOT functional. When you have completed this popcorn hack, the code should work. Have fun!\n",
    "\n"
   ]
  },
  {
   "cell_type": "code",
   "execution_count": null,
   "id": "740b316c",
   "metadata": {
    "vscode": {
     "languageId": "javascript"
    }
   },
   "outputs": [],
   "source": [
    "class Pet {\n",
    "  constructor(name) {\n",
    "    this.name = name;\n",
    "    this.hunger = 6;   // starting hunger level\n",
    "    this.energy = 7;   // starting energy level\n",
    "    this.happiness = 9; // starting happiness level\n",
    "  }\n",
    "\n",
    "  feed() {\n",
    "    this.hunger = Math.max(0, this.hunger - 2);  // reduce hunger\n",
    "    this.energy = Math.min(10, this.energy + 1); // increase energy\n",
    "    this.happiness = Math.min(10, this.happiness + 1); // increase happiness\n",
    "    console.log(`${this.name} has been fed! Hunger: ${this.hunger}, Energy: ${this.energy}, Happiness: ${this.happiness}`);\n",
    "  }\n",
    "\n",
    "  play() {\n",
    "    this.hunger = Math.min(10, this.hunger + 2); // increase hunger\n",
    "    this.energy = Math.max(0, this.energy - 2);  // decrease energy\n",
    "    this.happiness = Math.min(10, this.happiness + 2); // increase happiness\n",
    "    console.log(`${this.name} played! Hunger: ${this.hunger}, Energy: ${this.energy}, Happiness: ${this.happiness}`);\n",
    "  }\n",
    "} // <-- class ends here\n",
    "\n",
    "// Create a pet instance\n",
    "const myPet = new Pet(\"Fluffy\"); // give your pet a name\n",
    "\n",
    "// Print the properties of your pet to console\n",
    "console.log(myPet);\n",
    "\n",
    "// Print to output element if available\n",
    "if (typeof output !== \"undefined\") {\n",
    "  output.innerText = `Pet Name: ${myPet.name}\n",
    "Hunger: ${myPet.hunger}\n",
    "Energy: ${myPet.energy}\n",
    "Happiness: ${myPet.happiness}`;\n",
    "}\n",
    "\n",
    "// Test the methods\n",
    "myPet.feed();\n",
    "myPet.play();\n"
   ]
  },
  {
   "cell_type": "markdown",
   "id": "e7ae67bd",
   "metadata": {},
   "source": [
    "### <u>Homework</u>\n",
    "\n",
    "Complete the following questions in the next code block.\n",
    "\n",
    "1) Create a class Person with properties 'name' and 'age'. Print their properties.\n",
    "\n",
    "2) Add a method greet() to your Person class that prints a greeting using the person's name.\n",
    "\n",
    "3) Create a class Book with properties 'title', 'author', and 'pages'. Instantiate a book and print its properties.\n",
    "\n",
    "4) Add a method read(pages) to your Book class that increments a pagesRead property and prints a message.\n",
    "\n",
    "5) Add a method isLongBook() that returns true if pages > 300, otherwise false. Print the result for your book.\n",
    "\n",
    "6) Create a class Car with properties 'make', 'model', and 'fuel'. Add methods drive(distance) and refuel(amount). Print messages in each method.\n",
    "\n",
    "7) Add a static method info() to your Car class that prints 'Cars are vehicles.'\n",
    "\n",
    "8) Create a class ElectricCar that extends Car. Add a property 'battery' and a method charge(amount) that increases battery. Print battery level after charging.\n",
    "\n",
    "10) Create a routine that combines your objects: drive a Car, charge an ElectricCar, read pages from a Book, and call greet() on Person. Print outputs for each action.\n",
    "\n",
    "11) **Extra Credit:** Submit the original OOP Breakout Game Code (found on [OpenCS](https://github.com/Open-Coding-Society/pages/blob/main/hacks/breakout/breakout.md?plain=1)) after making the following edits:\n",
    "- Add another feature to the game: Add a method so that the ball must collide with some bricks twice for a brick to break completely.\n",
    "- Edit a method in the ball class to increase/decrease the speed of the ball: Please add a COMMENT on the game code that specifies which line you edited."
   ]
  },
  {
   "cell_type": "code",
   "execution_count": null,
   "id": "52d29f28",
   "metadata": {
    "vscode": {
     "languageId": "javascript"
    }
   },
   "outputs": [
    {
     "data": {
      "application/javascript": "\nclass Person {\n  constructor(name, age) {\n    this.name = name;\n    this.age = age;\n  }\n\n  greet() {\n    console.log(`Hello, my name is ${this.name} and I am ${this.age} years old.`);\n  }\n}\n\n// Create a person instance\nconst person1 = new Person(\"Dhruv\", 14);\nperson1.greet(); // Output: Hello, my name is Dhruv and I am 14 years old.\n\nclass Book {\n  constructor(title, author) {\n    this.title = title;\n    this.author = author;\n    this.pages = 0;\n  }\n\n  isLongBook() {\n    return this.pages > 300;\n  }\n}\n\n// Create a book instance\nconst book1 = new Book(\"Hotas Adventures\", \"Dhruv Agrawal\");\nbook1.pages = 350;\nconsole.log(`Is \"${book1.title}\" a long book?`, book1.isLongBook()); // Output: Is \"Hotas Adventures\" a long book? true\n\nclass Car {\n  constructor(make, model, fuel) {\n    this.make = make;\n    this.model = model;\n    this.fuel = fuel; // fuel level percentage\n  }\n\n  drive(distance) {\n    console.log(`Driving ${distance} miles. Fuel left: ${this.fuel}%`);\n  }\n  refuel(amount) {\n    this.fuel += amount;\n    console.log(`Refueled ${amount}%. Fuel level: ${this.fuel}%`);\n  }\n  static info() {\n    console.log(\"Cars are vehicles\");\n  }\n}\n\n// Create a car instance\nconst myCar = new Car(\"Toyota\", \"Corolla\", 10);\nmyCar.drive(100);\nmyCar.refuel(5); // Output: Refueled 5%. Fuel level: 15%\nmyCar.drive(50); // Output: Drove 50 miles. Fuel left: 15%\n\nclass ElectricCar extends Car {\n  constructor(make, model, fuel, batteryLevel) {\n    super(make, model, fuel);\n    this.batteryLevel = batteryLevel; // battery level percentage\n  }\n\n  charge(amount) {\n    this.batteryLevel += amount;\n    console.log(`Charged ${amount}%. Battery level: ${this.batteryLevel}%`);\n  }\n}\nconst person = new Person(\"Dhruv\", 14);\nconst book = new Book(\"Hotas Adventures\", \"Dhruv Agrawal\");\nconst myCar = new Car(\"Lexus\", \"RX350\", 15);\nconst myElectricCar = new ElectricCar(\"Tesla\", \"Model 3\", 0, 60);\nperson.greet();\nbook.pages = 350;\nbook.read(50);\nconsole.log(`Is \"${book.title}\" a long book?`, book.isLongBook());\nmyCar.drive(40);\nmyCar.refuel(10);\nmyElectricCar.drive(30);\nmyElectricCar.charge(20);\n",
      "text/plain": [
       "<IPython.core.display.Javascript object>"
      ]
     },
     "metadata": {},
     "output_type": "display_data"
    }
   ],
   "source": [
    "class Person {\n",
    "  constructor(name, age) {\n",
    "    this.name = name;\n",
    "    this.age = age;\n",
    "  }\n",
    "\n",
    "  greet() {\n",
    "    console.log(`Hello, my name is ${this.name} and I am ${this.age} years old.`);\n",
    "  }\n",
    "}\n",
    "\n",
    "// Create a person instance\n",
    "const person1 = new Person(\"Dhruv\", 14);\n",
    "person1.greet(); // Output: Hello, my name is Dhruv and I am 14 years old.\n",
    "\n",
    "class Book {\n",
    "  constructor(title, author) {\n",
    "    this.title = title;\n",
    "    this.author = author;\n",
    "    this.pages = 0;\n",
    "  }\n",
    "\n",
    "  isLongBook() {\n",
    "    return this.pages > 300;\n",
    "  }\n",
    "}\n",
    "\n",
    "// Create a book instance\n",
    "const book1 = new Book(\"Hotas Adventures\", \"Dhruv Agrawal\");\n",
    "book1.pages = 350;\n",
    "console.log(`Is \"${book1.title}\" a long book?`, book1.isLongBook()); // Output: Is \"Hotas Adventures\" a long book? true\n",
    "\n",
    "class Car {\n",
    "  constructor(make, model, fuel) {\n",
    "    this.make = make;\n",
    "    this.model = model;\n",
    "    this.fuel = fuel; // fuel level percentage\n",
    "  }\n",
    "\n",
    "  drive(distance) {\n",
    "    console.log(`Driving ${distance} miles. Fuel left: ${this.fuel}%`);\n",
    "  }\n",
    "  refuel(amount) {\n",
    "    this.fuel += amount;\n",
    "    console.log(`Refueled ${amount}%. Fuel level: ${this.fuel}%`);\n",
    "  }\n",
    "  static info() {\n",
    "    console.log(\"Cars are vehicles\");\n",
    "  }\n",
    "}\n",
    "\n",
    "// Create a car instance\n",
    "const myCar = new Car(\"Toyota\", \"Corolla\", 10);\n",
    "myCar.drive(100);\n",
    "myCar.refuel(5); // Output: Refueled 5%. Fuel level: 15%\n",
    "myCar.drive(50); // Output: Drove 50 miles. Fuel left: 15%\n",
    "\n",
    "class ElectricCar extends Car {\n",
    "  constructor(make, model, fuel, batteryLevel) {\n",
    "    super(make, model, fuel);\n",
    "    this.batteryLevel = batteryLevel; // battery level percentage\n",
    "  }\n",
    "\n",
    "  charge(amount) {\n",
    "    this.batteryLevel += amount;\n",
    "    console.log(`Charged ${amount}%. Battery level: ${this.batteryLevel}%`);\n",
    "  }\n",
    "}\n",
    "\n",
    "const person = new Person(\"Dhruv\", 14);\n",
    "const book = new Book(\"Hotas Adventures\", \"Dhruv Agrawal\");\n",
    "const myCar = new Car(\"Lexus\", \"RX350\", 15);\n",
    "const myElectricCar = new ElectricCar(\"Tesla\", \"Model 3\", 0, 60);\n",
    "person.greet();\n",
    "book.pages = 350;\n",
    "book.read(50);\n",
    "console.log(`Is \"${book.title}\" a long book?`, book.isLongBook());\n",
    "myCar.drive(40);\n",
    "myCar.refuel(10);\n",
    "myElectricCar.drive(30);\n",
    "myElectricCar.charge(20);\n"
   ]
  }
 ],
 "metadata": {
  "kernelspec": {
   "display_name": "venv",
   "language": "python",
   "name": "python3"
  },
  "language_info": {
   "codemirror_mode": {
    "name": "ipython",
    "version": 3
   },
   "file_extension": ".py",
   "mimetype": "text/x-python",
   "name": "python",
   "nbconvert_exporter": "python",
   "pygments_lexer": "ipython3",
   "version": "3.13.7"
  }
 },
 "nbformat": 4,
 "nbformat_minor": 5
}
